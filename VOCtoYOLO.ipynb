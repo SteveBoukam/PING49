{
  "nbformat": 4,
  "nbformat_minor": 0,
  "metadata": {
    "colab": {
      "name": "VOCtoYOLO.ipynb",
      "provenance": [],
      "include_colab_link": true
    },
    "kernelspec": {
      "name": "python3",
      "display_name": "Python 3"
    },
    "accelerator": "GPU"
  },
  "cells": [
    {
      "cell_type": "markdown",
      "metadata": {
        "id": "view-in-github",
        "colab_type": "text"
      },
      "source": [
        "<a href=\"https://colab.research.google.com/github/SteveBoukam/PING49/blob/master/VOCtoYOLO.ipynb\" target=\"_parent\"><img src=\"https://colab.research.google.com/assets/colab-badge.svg\" alt=\"Open In Colab\"/></a>"
      ]
    },
    {
      "cell_type": "code",
      "metadata": {
        "id": "oPS3EXtrpUbD",
        "colab_type": "code",
        "outputId": "d992255b-89e2-4721-ffd9-f53c0f54d9ec",
        "colab": {
          "base_uri": "https://localhost:8080/",
          "height": 134
        }
      },
      "source": [
        "!git clone https://github.com/opheliendjonkep/convert2Yolo.git"
      ],
      "execution_count": 0,
      "outputs": [
        {
          "output_type": "stream",
          "text": [
            "Cloning into 'convert2Yolo'...\n",
            "remote: Enumerating objects: 10, done.\u001b[K\n",
            "remote: Counting objects: 100% (10/10), done.\u001b[K\n",
            "remote: Compressing objects: 100% (9/9), done.\u001b[K\n",
            "remote: Total 211 (delta 2), reused 0 (delta 0), pack-reused 201\u001b[K\n",
            "Receiving objects: 100% (211/211), 997.74 KiB | 2.14 MiB/s, done.\n",
            "Resolving deltas: 100% (87/87), done.\n"
          ],
          "name": "stdout"
        }
      ]
    },
    {
      "cell_type": "code",
      "metadata": {
        "id": "8przWtGmpWXG",
        "colab_type": "code",
        "colab": {}
      },
      "source": [
        "!unzip /content/XML.zip"
      ],
      "execution_count": 0,
      "outputs": []
    },
    {
      "cell_type": "code",
      "metadata": {
        "id": "nHmXAB4Ipg5P",
        "colab_type": "code",
        "outputId": "19e99b01-e0b3-431b-c094-5d1093ff1260",
        "colab": {
          "base_uri": "https://localhost:8080/",
          "height": 121
        }
      },
      "source": [
        "from google.colab import drive\n",
        "drive.mount('/content/drive')"
      ],
      "execution_count": 0,
      "outputs": [
        {
          "output_type": "stream",
          "text": [
            "Go to this URL in a browser: https://accounts.google.com/o/oauth2/auth?client_id=947318989803-6bn6qk8qdgf4n4g3pfee6491hc0brc4i.apps.googleusercontent.com&redirect_uri=urn%3aietf%3awg%3aoauth%3a2.0%3aoob&response_type=code&scope=email%20https%3a%2f%2fwww.googleapis.com%2fauth%2fdocs.test%20https%3a%2f%2fwww.googleapis.com%2fauth%2fdrive%20https%3a%2f%2fwww.googleapis.com%2fauth%2fdrive.photos.readonly%20https%3a%2f%2fwww.googleapis.com%2fauth%2fpeopleapi.readonly\n",
            "\n",
            "Enter your authorization code:\n",
            "··········\n",
            "Mounted at /content/drive\n"
          ],
          "name": "stdout"
        }
      ]
    },
    {
      "cell_type": "code",
      "metadata": {
        "id": "nQMalsqNpqW_",
        "colab_type": "code",
        "outputId": "22b41277-5cd1-4fcd-f810-d07e1bcd49d9",
        "colab": {
          "base_uri": "https://localhost:8080/",
          "height": 168
        }
      },
      "source": [
        "!python3 /content/convert2Yolo/example.py --datasets VOC --img_path /localisation/images --label /content/XML --convert_output_path \"/content/drive/My Drive/localisation/YOLO/\" --img_type \".jpg\" --manipast_path ./ --cls_list_file /content/classes.txt"
      ],
      "execution_count": 0,
      "outputs": [
        {
          "output_type": "stream",
          "text": [
            "\n",
            "VOC Parsing:   |████████████████████████████████████████| 100.0% (3172/3172)  Complete\n",
            "\n",
            "\n",
            "YOLO Generating:|████████████████████████████████████████| 100.0% (3172/3172)  Complete\n",
            "\n",
            "\n",
            "YOLO Saving:   |████████████████████████████████████████| 100.0% (3172/3172)  Complete\n",
            "\n"
          ],
          "name": "stdout"
        }
      ]
    },
    {
      "cell_type": "code",
      "metadata": {
        "id": "TqXHmN43pky2",
        "colab_type": "code",
        "colab": {}
      },
      "source": [
        "!zip -r /content/YOLO.zip /content/YOLO"
      ],
      "execution_count": 0,
      "outputs": []
    }
  ]
}