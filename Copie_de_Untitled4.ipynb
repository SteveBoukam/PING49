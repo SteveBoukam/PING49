{
  "nbformat": 4,
  "nbformat_minor": 0,
  "metadata": {
    "colab": {
      "name": "Copie de Untitled4.ipynb",
      "provenance": [],
      "include_colab_link": true
    },
    "kernelspec": {
      "name": "python3",
      "display_name": "Python 3"
    }
  },
  "cells": [
    {
      "cell_type": "markdown",
      "metadata": {
        "id": "view-in-github",
        "colab_type": "text"
      },
      "source": [
        "<a href=\"https://colab.research.google.com/github/SteveBoukam/PING49/blob/master/Copie_de_Untitled4.ipynb\" target=\"_parent\"><img src=\"https://colab.research.google.com/assets/colab-badge.svg\" alt=\"Open In Colab\"/></a>"
      ]
    },
    {
      "cell_type": "code",
      "metadata": {
        "id": "XzvX2WqWj1vb",
        "colab_type": "code",
        "colab": {}
      },
      "source": [
        "# il faut d'abord saisir ça dans l'invite de commande d'anaconda >>> pip3 install opencv-python #For python 3.x\n",
        "import cv2\n",
        "vidcap = cv2.VideoCapture('/content/WhatsApp Video 2019-12-03 at 21.41.07.mp4')\n",
        "def getFrame(sec):\n",
        "    vidcap.set(cv2.CAP_PROP_POS_MSEC,sec*1000)\n",
        "    hasFrames,image = vidcap.read()\n",
        "    if hasFrames:\n",
        "        cv2.imwrite(\"imagetest\"+str(count)+\".jpg\", image)     # on sauvegarde les images au format jpg\n",
        "    return hasFrames\n",
        "sec = 0\n",
        "frameRate = 2 #//pour capturer une image toutes les 2 secondes\n",
        "count=1\n",
        "success = getFrame(sec)\n",
        "while success:\n",
        "    count = count + 1\n",
        "    sec = sec + frameRate\n",
        "    sec = round(sec, 2)\n",
        "    success = getFrame(sec)"
      ],
      "execution_count": 0,
      "outputs": []
    }
  ]
}